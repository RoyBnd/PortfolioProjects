{
 "cells": [
  {
   "cell_type": "markdown",
   "id": "d32e05a3-8877-4bb8-b2be-9f073a4be79c",
   "metadata": {},
   "source": [
    "### Intro: \n",
    "My first hands on project with bs4.\n",
    "I'm going to create a price tracker for specific item in amazon using bs4 and requests.\n",
    "The main goal is to be able tracking after the product price automaticlly and get email when the price comes to level that i'm willing to pay.\n"
   ]
  },
  {
   "cell_type": "markdown",
   "id": "ab7516f3-a7b6-4865-96b9-e0aab5f959af",
   "metadata": {},
   "source": [
    "#### Import Libraries"
   ]
  },
  {
   "cell_type": "code",
   "execution_count": 5,
   "id": "b148b1b4-37a4-4879-90a1-644d5ed31981",
   "metadata": {},
   "outputs": [],
   "source": [
    "from bs4 import BeautifulSoup\n",
    "import requests\n",
    "import time\n",
    "import datetime\n",
    "import smtplib"
   ]
  },
  {
   "cell_type": "markdown",
   "id": "c610fbc3-51ae-4bca-9438-9b251c409b0a",
   "metadata": {},
   "source": [
    "#### Connect the Website"
   ]
  },
  {
   "cell_type": "code",
   "execution_count": 96,
   "id": "eff45105-575c-4abd-b3b4-d5cd9411e0bb",
   "metadata": {},
   "outputs": [],
   "source": [
    "# Get the page url adress\n",
    "URL = 'https://www.amazon.com/Funny-Data-Systems-Business-Analyst/dp/B07FNW9FGJ/ref=sr_1_3?dchild=1&keywords=data%2Banalyst%2Btshirt&qid=1626655184&sr=8-3&customId=B0752XJYNL&th=1'\n",
    "\n",
    "headers = {\"User-Agent\": \"Mozilla/5.0 (Windows NT 10.0; Win64; x64) AppleWebKit/537.36 (KHTML, like Gecko) Chrome/96.0.4664.45 Safari/537.36\", \"Accept-Encoding\":\"gzip, deflate\", \"Accept\":\"text/html,application/xhtml+xml,application/xml;q=0.9,*/*;q=0.8\", \"DNT\":\"1\",\"Connection\":\"close\", \"Upgrade-Insecure-Requests\":\"1\"}\n",
    "\n",
    "# Get the page with requests lib\n",
    "page = requests.get(URL,headers=headers)\n",
    "\n",
    "# Get html content of the page using beatifulsoup lib\n",
    "soup1 = BeautifulSoup(page.content,'html.parser')\n",
    "\n",
    "# Make the html content look better with: pretiffy\n",
    "soup2 = BeautifulSoup(soup1.prettify(),'html.parser')\n",
    "\n",
    "# Get the product title with: find function and get_text\n",
    "title = soup2.find(id=\"productTitle\").get_text()\n",
    "\n",
    "# Get the price from page with find and get_text\n",
    "price = soup2.find(id=\"corePrice_desktop\").get_text()\n",
    "\n",
    "#print(title)\n",
    "#print(price)\n"
   ]
  },
  {
   "cell_type": "markdown",
   "id": "56ad390a-4ab2-41bc-a674-c17fed683b27",
   "metadata": {},
   "source": [
    "#### Cleaning the spaces and signs from title and price with: strip()"
   ]
  },
  {
   "cell_type": "code",
   "execution_count": 99,
   "id": "1f378d6e-fdf1-4faa-a81a-f255b9a11ad8",
   "metadata": {},
   "outputs": [
    {
     "name": "stdout",
     "output_type": "stream",
     "text": [
      "Funny Got Data MIS Data Systems Business Analyst T-Shirt\n",
      "5\n",
      "16.99\n"
     ]
    }
   ],
   "source": [
    "title = title.strip() # remove every string from both sides of title\n",
    "\n",
    "price = price.replace('Price: $','')\n",
    "\n",
    "# find ' ' index between the words\n",
    "ind = price.index(' ')\n",
    "price =  ' '.join(price.split())\n",
    "\n",
    "# remove all except the number after the $ sign\n",
    "price = (price.strip()[ind:]).strip()[1:]\n",
    "\n",
    "# remove every thing except the number\n",
    "print(title)\n",
    "\n",
    "print(price)"
   ]
  },
  {
   "cell_type": "code",
   "execution_count": 101,
   "id": "406445f8-dbe0-4fe5-9e43-d19118b6595c",
   "metadata": {},
   "outputs": [
    {
     "name": "stdout",
     "output_type": "stream",
     "text": [
      "16.99\n",
      "Funny Got Data MIS Data Systems Business Analyst T-Shirt\n"
     ]
    }
   ],
   "source": [
    "print(price)\n",
    "print(title)"
   ]
  },
  {
   "cell_type": "markdown",
   "id": "acbe15ae-9b87-4762-97c2-9e209de44538",
   "metadata": {},
   "source": [
    "#### Add date timestamp to track when we add data to csv"
   ]
  },
  {
   "cell_type": "code",
   "execution_count": 108,
   "id": "1026c935-4f8b-4f26-a90e-c071227b8e96",
   "metadata": {},
   "outputs": [],
   "source": [
    "today = datetime.date.today()\n",
    "# After we cteate the time stamp we can add it to header and data in csv."
   ]
  },
  {
   "cell_type": "markdown",
   "id": "a9607158-5844-4bbd-9715-827b4a0940a2",
   "metadata": {},
   "source": [
    "#### Create csv file to import the data with csv library"
   ]
  },
  {
   "cell_type": "code",
   "execution_count": 119,
   "id": "3cd8748e-4248-4024-8081-2f8ae851e42d",
   "metadata": {},
   "outputs": [],
   "source": [
    "import csv\n",
    "\n",
    "# declare on headers  and data in csv\n",
    "header = ['Title', 'Price', 'Timestamp']\n",
    "data = [title, price, today]\n",
    "\n",
    "# create csv file \n",
    "with open('AmazonWSdata.csv', 'w', newline='',encoding='UTF8') as f:\n",
    "    # Import headers and data to the csv \n",
    "    writer=csv.writer(f)\n",
    "    writer.writerow(header)\n",
    "    writer.writerow(data)"
   ]
  },
  {
   "cell_type": "markdown",
   "id": "7634c7e1-70bf-4304-9095-d4caa73237df",
   "metadata": {},
   "source": [
    "#### Check the csv without open it"
   ]
  },
  {
   "cell_type": "code",
   "execution_count": 120,
   "id": "1a91cd13-21b5-4a5e-a722-320c1a9a0786",
   "metadata": {},
   "outputs": [
    {
     "name": "stdout",
     "output_type": "stream",
     "text": [
      "                                               Title  Price   Timestamp\n",
      "0  Funny Got Data MIS Data Systems Business Analy...  16.99  2022-02-04\n"
     ]
    }
   ],
   "source": [
    "import pandas as pd\n",
    "df = pd.read_csv(r'C:\\Users\\רועי\\Desktop\\Amazon Web\\Start\\AmazonWSdata.csv')\n",
    "print(df)"
   ]
  },
  {
   "cell_type": "markdown",
   "id": "ff4f9540-ac55-48fe-bc65-57e46abd5f89",
   "metadata": {},
   "source": [
    "#### Append data to the csv"
   ]
  },
  {
   "cell_type": "code",
   "execution_count": null,
   "id": "313c1f05-0a2a-43e6-af91-c0ea7eaa4ef8",
   "metadata": {},
   "outputs": [],
   "source": [
    "#We change from 'w' to 'a+' in order to append rows\n",
    "with open('AmazonWSdata.csv', 'a+', newline='',encoding='UTF8') as f:\n",
    "    writer=csv.writer(f)\n",
    "    writer.writerow(data)"
   ]
  },
  {
   "cell_type": "markdown",
   "id": "ed3e4959-947a-43d5-aa91-c4384d8e693b",
   "metadata": {},
   "source": [
    "#### Automate the appending process"
   ]
  },
  {
   "cell_type": "code",
   "execution_count": 114,
   "id": "618208d8-a22e-4a7e-ada4-0137a83f02f4",
   "metadata": {},
   "outputs": [],
   "source": [
    "# Create function that holds all the import code block \n",
    "\n",
    "def check_price():\n",
    "    URL = 'https://www.amazon.com/Funny-Data-Systems-Business-Analyst/dp/B07FNW9FGJ/ref=sr_1_3?dchild=1&keywords=data%2Banalyst%2Btshirt&qid=1626655184&sr=8-3&customId=B0752XJYNL&th=1'\n",
    "\n",
    "    headers = {\"User-Agent\": \"Mozilla/5.0 (Windows NT 10.0; Win64; x64) AppleWebKit/537.36 (KHTML, like Gecko) Chrome/96.0.4664.45 Safari/537.36\", \"Accept-Encoding\":\"gzip, deflate\", \"Accept\":\"text/html,application/xhtml+xml,application/xml;q=0.9,*/*;q=0.8\", \"DNT\":\"1\",\"Connection\":\"close\", \"Upgrade-Insecure-Requests\":\"1\"}\n",
    "\n",
    "    # Get the page with requests lib\n",
    "    page = requests.get(URL,headers=headers)\n",
    "\n",
    "    # Get html content of the page using beatifulsoup lib\n",
    "    soup1 = BeautifulSoup(page.content,'html.parser')\n",
    "\n",
    "    # Make the html content look better with: pretiffy\n",
    "    soup2 = BeautifulSoup(soup1.prettify(),'html.parser')\n",
    "\n",
    "    # Getiing the product title with: find function and get_text\n",
    "    title = soup2.find(id=\"productTitle\").get_text()\n",
    "\n",
    "    # Getting the price from page with find and get_text\n",
    "    price = soup2.find(id=\"corePrice_desktop\").get_text()\n",
    "    \n",
    "    title = title.strip() # Remove every thing from both sides of title\n",
    "\n",
    "    price = price.replace('Price: $','')\n",
    "\n",
    "    # Find ' ' index between the words\n",
    "    ind = price.index(' ')\n",
    "    price =  ' '.join(price.split())\n",
    "\n",
    "    # remove all except the number after the $ sign\n",
    "    price = (price.strip()[ind:]).strip()[1:]\n",
    "    \n",
    "    today = datetime.date.today()\n",
    "    \n",
    "    import csv\n",
    "\n",
    "    # Declare on headers  and data in csv\n",
    "    header = ['Title', 'Price', 'Timestamp']\n",
    "    data = [title, price, today]\n",
    "    \n",
    "    with open('AmazonWSdata.csv', 'a+', newline='',encoding='UTF8') as f:\n",
    "        writer=csv.writer(f)\n",
    "        writer.writerow(data)"
   ]
  },
  {
   "cell_type": "markdown",
   "id": "acb8768a-953e-4c69-8c1e-65e209c59e23",
   "metadata": {},
   "source": [
    "#### Create timer that run the function every day"
   ]
  },
  {
   "cell_type": "code",
   "execution_count": 115,
   "id": "9a424d0b-0e6b-4e80-ba23-d0b5b0aa3a79",
   "metadata": {
    "collapsed": true
   },
   "outputs": [
    {
     "ename": "KeyboardInterrupt",
     "evalue": "",
     "output_type": "error",
     "traceback": [
      "\u001b[1;31m---------------------------------------------------------------------------\u001b[0m",
      "\u001b[1;31mKeyboardInterrupt\u001b[0m                         Traceback (most recent call last)",
      "\u001b[1;32m<ipython-input-115-8e781c65beba>\u001b[0m in \u001b[0;36m<module>\u001b[1;34m\u001b[0m\n\u001b[0;32m      2\u001b[0m \u001b[1;32mwhile\u001b[0m\u001b[1;33m(\u001b[0m\u001b[1;32mTrue\u001b[0m\u001b[1;33m)\u001b[0m\u001b[1;33m:\u001b[0m\u001b[1;33m\u001b[0m\u001b[1;33m\u001b[0m\u001b[0m\n\u001b[0;32m      3\u001b[0m     \u001b[0mcheck_price\u001b[0m\u001b[1;33m(\u001b[0m\u001b[1;33m)\u001b[0m\u001b[1;33m\u001b[0m\u001b[1;33m\u001b[0m\u001b[0m\n\u001b[1;32m----> 4\u001b[1;33m     \u001b[0mtime\u001b[0m\u001b[1;33m.\u001b[0m\u001b[0msleep\u001b[0m\u001b[1;33m(\u001b[0m\u001b[1;36m10\u001b[0m\u001b[1;33m)\u001b[0m \u001b[1;31m# in sec\u001b[0m\u001b[1;33m\u001b[0m\u001b[1;33m\u001b[0m\u001b[0m\n\u001b[0m",
      "\u001b[1;31mKeyboardInterrupt\u001b[0m: "
     ]
    }
   ],
   "source": [
    "# Use time library\n",
    "while(True):\n",
    "    check_price()\n",
    "    time.sleep(10) # in sec "
   ]
  },
  {
   "cell_type": "code",
   "execution_count": 121,
   "id": "2d1ea886-5dbe-48f3-b3ae-d2ede1f6e5c3",
   "metadata": {},
   "outputs": [
    {
     "name": "stdout",
     "output_type": "stream",
     "text": [
      "                                               Title  Price   Timestamp\n",
      "0  Funny Got Data MIS Data Systems Business Analy...  16.99  2022-02-04\n"
     ]
    }
   ],
   "source": [
    "import pandas as pd\n",
    "df = pd.read_csv(r'C:\\Users\\רועי\\Desktop\\Amazon Web\\Start\\AmazonWSdata.csv')\n",
    "print(df)"
   ]
  },
  {
   "cell_type": "markdown",
   "id": "7ca162b5-cb6d-4e43-886d-0d9487858565",
   "metadata": {},
   "source": [
    "#### Createing function that will send email when price hit some point we want"
   ]
  },
  {
   "cell_type": "code",
   "execution_count": 118,
   "id": "8cc12a82-a889-4827-ba08-879bc0e43306",
   "metadata": {},
   "outputs": [],
   "source": [
    "# After we create the function we will add an if statment that send us email when price will touch the  level we want.\n",
    "def send_mail():\n",
    "    server = smtplib.SMTP_SSL('smtp.gmail.com',465) # connect to gmail server\n",
    "    server.ehlo()\n",
    "    #server.starttls()\n",
    "    server.ehlo()\n",
    "    server.login('roybendayan91@gmail.com','xxxxxxxxxxxxxx') # connect to my gmail account\n",
    "    \n",
    "    subject = \"The Shirt you want is below $16! Its time to buy!\"\n",
    "    body = \"Roy, The shirt you in good price! Buy Now! Link here: https://www.amazon.com/Funny-Data-Systems-Business-Analyst/dp/B07FNW9FGJ/ref=sr_1_3?dchild=1&keywords=data+analyst+tshirt&qid=1626655184&sr=8-3\"\n",
    "    msg = f\"Subject: {subject}\\n\\n{body}\"\n",
    "    \n",
    "    server.sendmail(\n",
    "        'roybendayan91@gmail.com',\n",
    "        msg\n",
    "     \n",
    "    )"
   ]
  }
 ],
 "metadata": {
  "kernelspec": {
   "display_name": "Python 3",
   "language": "python",
   "name": "python3"
  },
  "language_info": {
   "codemirror_mode": {
    "name": "ipython",
    "version": 3
   },
   "file_extension": ".py",
   "mimetype": "text/x-python",
   "name": "python",
   "nbconvert_exporter": "python",
   "pygments_lexer": "ipython3",
   "version": "3.8.8"
  }
 },
 "nbformat": 4,
 "nbformat_minor": 5
}
